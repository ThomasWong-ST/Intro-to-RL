{
  "nbformat": 4,
  "nbformat_minor": 0,
  "metadata": {
    "colab": {
      "provenance": [],
      "authorship_tag": "ABX9TyPLSOAw0zraQQaiv9SjFB1E",
      "include_colab_link": true
    },
    "kernelspec": {
      "name": "python3",
      "display_name": "Python 3"
    },
    "language_info": {
      "name": "python"
    }
  },
  "cells": [
    {
      "cell_type": "markdown",
      "metadata": {
        "id": "view-in-github",
        "colab_type": "text"
      },
      "source": [
        "<a href=\"https://colab.research.google.com/github/ThomasWong-ST/Intro-to-RL/blob/main/Temporal_Difference_Learning.ipynb\" target=\"_parent\"><img src=\"https://colab.research.google.com/assets/colab-badge.svg\" alt=\"Open In Colab\"/></a>"
      ]
    },
    {
      "cell_type": "markdown",
      "source": [
        "#Simulations for TD Learning\n",
        "Windy GridWorld"
      ],
      "metadata": {
        "id": "zcdsqIq-h60Z"
      }
    },
    {
      "cell_type": "code",
      "execution_count": null,
      "metadata": {
        "id": "p1LAaBjBkEte"
      },
      "outputs": [],
      "source": [
        "import numpy as np\n",
        "import matplotlib.pyplot as plt"
      ]
    },
    {
      "cell_type": "code",
      "source": [
        "UP, DOWN, LEFT, RIGHT = 0, 1, 2, 3\n",
        "ACTIONS = [UP, DOWN, LEFT, RIGHT]\n",
        "\n",
        "class WindyGridWorld:\n",
        "    \"\"\"\n",
        "    Sutton & Barto, Example 6.5 (Windy Gridworld)\n",
        "    - Grid: 7 rows x 10 cols (row 0 at top, row increases downward)\n",
        "    - Start S=(3,0), Goal G=(3,7)  [0-indexed]\n",
        "    - Reward: -1 per step until goal\n",
        "    - Discount: γ=1.0 (episodic, undiscounted)\n",
        "    - Wind: pushes UP by w[col] cells after the agent's intended move\n",
        "      Standard wind strengths: [0,0,0,1,1,1,2,2,1,0]\n",
        "    \"\"\"\n",
        "    def __init__(self, seed=0):\n",
        "        self.n_rows, self.n_cols = 7, 10\n",
        "        self.start = (3, 0)\n",
        "        self.goal  = (3, 7)\n",
        "        self.step_cost = -1.0\n",
        "        #self.rng = np.random.default_rng(seed)\n",
        "\n",
        "        # Standard deterministic wind per column (upward shift)\n",
        "        self.wind = [0,0,0,1,1,1,2,2,1,0]\n",
        "\n",
        "        self.state = None  # (row, col)\n",
        "\n",
        "    def reset(self):\n",
        "        \"\"\"Reset to fixed start (as in the book). Return state index.\"\"\"\n",
        "        self.state = self.start\n",
        "        return self._to_index(self.state)\n",
        "\n",
        "    def step(self, action):\n",
        "        \"\"\"\n",
        "        Apply action, then wind. Return: (next_state_idx, reward, done, info)\n",
        "        \"\"\"\n",
        "        r, c = self.state\n",
        "\n",
        "        # 1) agent’s intended move\n",
        "        nr, nc = r, c\n",
        "        if action == UP:    nr -= 1\n",
        "        if action == DOWN:  nr += 1\n",
        "        if action == LEFT:  nc -= 1\n",
        "        if action == RIGHT: nc += 1\n",
        "        nr = np.clip(nr, 0, self.n_rows - 1)#exp: a = np.clip(3, 0, 4-1), a=3, if np.clip(3, 0, 3-1) than a=2\n",
        "        nc = np.clip(nc, 0, self.n_cols - 1)\n",
        "\n",
        "        # 2) wind pushes UP by wind[nc] (applies after movement, uses destination column)\n",
        "        nr = np.clip(nr - self.wind[nc], 0, self.n_rows - 1)\n",
        "\n",
        "        self.state = (nr, nc)\n",
        "        done = (self.state == self.goal)\n",
        "        reward = 0.0 if done else self.step_cost\n",
        "        return self._to_index(self.state), reward, done, {}\n",
        "\n",
        "    # --- helpers (same style as your class) ---\n",
        "    def _to_index(self, rc):\n",
        "        r, c = rc\n",
        "        return r * self.n_cols + c\n",
        "\n",
        "    def _from_index(self, idx):\n",
        "        return divmod(idx, self.n_cols)\n",
        "\n",
        "    @property\n",
        "    def nS(self):  # number of states\n",
        "        return self.n_rows * self.n_cols\n",
        "\n",
        "    @property\n",
        "    def nA(self):  # number of actions\n",
        "        return len(ACTIONS)\n",
        "\n",
        "\n"
      ],
      "metadata": {
        "id": "TLW0pNxEm6XB"
      },
      "execution_count": null,
      "outputs": []
    },
    {
      "cell_type": "code",
      "source": [
        "Q = np.zeros((7, 10), dtype=float)\n",
        "print(np.random.randint(Q.shape[1]))\n",
        "print(Q[0])"
      ],
      "metadata": {
        "colab": {
          "base_uri": "https://localhost:8080/"
        },
        "id": "OscurhRvpGEt",
        "outputId": "80d878ed-e52d-4622-d1ac-f440d83b6351"
      },
      "execution_count": null,
      "outputs": [
        {
          "output_type": "stream",
          "name": "stdout",
          "text": [
            "9\n",
            "[0. 0. 0. 0. 0. 0. 0. 0. 0. 0.]\n"
          ]
        }
      ]
    },
    {
      "cell_type": "code",
      "source": [
        "def make_epsilon_greedy(epsilon=0.1, tie_break=\"random\"):\n",
        "    \"\"\"\n",
        "    Returns a policy function: policy(Q, s) -> action.\n",
        "    - epsilon: exploration rate\n",
        "    - tie_break: 'random' (uniform among argmax) or 'first' (np.argmax)\n",
        "    \"\"\"\n",
        "    def policy(Q, s):\n",
        "        # choose random action with probability epsilon\n",
        "        if np.random.rand() < epsilon:  # correct random scalar\n",
        "            return int(np.random.randint(Q.shape[1]))  # random action\n",
        "\n",
        "        q = Q[s]\n",
        "        if tie_break == \"random\":\n",
        "            best = np.flatnonzero(q == q.max())\n",
        "            return int(np.random.choice(best))\n",
        "        else:\n",
        "            return int(np.argmax(q))\n",
        "\n",
        "    return policy\n",
        "    \"\"\"\n",
        "    what happens is that I initially have my Q table\n",
        "    Q = np.zeros((env.nS, env.nA), dtype=float), than when\n",
        "    I have Q[s], and s = env.reset(), it starts at\n",
        "    the position (3, 0), and Q[s] returns a list with\n",
        "    four elements, each element denotes the action value\n",
        "    corresponding to the actions [0,1,2,3], I choose the maximum\n",
        "    value with an epsilon chance of randomly choosing a action;\n",
        "    than the function policy returns the next action being chosen.\n",
        "    \"\"\""
      ],
      "metadata": {
        "id": "4aiy1t2ZeJ3l"
      },
      "execution_count": null,
      "outputs": []
    },
    {
      "cell_type": "code",
      "source": [
        "env = WindyGridWorld()\n",
        "Q = np.zeros((env.nS, env.nA), dtype=float)\n",
        "alpha = make_epsilon_greedy(epsilon=0.1)\n",
        "#print(Q)\n",
        "print(Q[env.reset()])\n",
        "print(alpha(Q, 0))\n",
        "print(env.reset())\n",
        "print(alpha(Q, env.reset()))\n",
        "del(alpha)"
      ],
      "metadata": {
        "colab": {
          "base_uri": "https://localhost:8080/"
        },
        "id": "M-wn_AoEHeLU",
        "outputId": "54f24e41-28b3-482c-e221-96799a5f9070"
      },
      "execution_count": null,
      "outputs": [
        {
          "output_type": "stream",
          "name": "stdout",
          "text": [
            "[0. 0. 0. 0.]\n",
            "0\n",
            "30\n",
            "0\n"
          ]
        }
      ]
    },
    {
      "cell_type": "code",
      "source": [
        "def plot_path(env, states, title=\"Path followed by agent\"):\n",
        "    \"\"\"\n",
        "    Plot the sequence of states visited on the WindyGridWorld grid.\n",
        "    \"\"\"\n",
        "    if not states:\n",
        "        print(\"No states to plot.\")\n",
        "        return\n",
        "\n",
        "    # convert 1D indices to (row, col)\n",
        "    rc = [env._from_index(s) for s in states]\n",
        "    rs = np.array([r for r, c in rc])\n",
        "    cs = np.array([c for r, c in rc])\n",
        "\n",
        "    rows, cols = env.n_rows, env.n_cols\n",
        "\n",
        "    fig, ax = plt.subplots(figsize=(8, 5))\n",
        "    # draw grid lines\n",
        "    for r in range(rows + 1):\n",
        "        ax.plot([-0.5, cols - 0.5], [r - 0.5, r - 0.5], color=\"gray\", linewidth=0.5)\n",
        "    for c in range(cols + 1):\n",
        "        ax.plot([c - 0.5, c - 0.5], [-0.5, rows - 0.5], color=\"gray\", linewidth=0.5)\n",
        "\n",
        "    # draw path (note: row 0 = top)\n",
        "    ax.plot(cs, rs, color=\"blue\", linewidth=2, marker=\"o\", markersize=4, label=\"Path\")\n",
        "\n",
        "    # start & goal\n",
        "    sr, sc = env.start\n",
        "    gr, gc = env.goal\n",
        "    ax.scatter(sc, sr, s=120, c=\"green\", marker=\"s\", label=\"Start\", zorder=3)\n",
        "    ax.scatter(gc, gr, s=120, c=\"red\", marker=\"*\", label=\"Goal\", zorder=3)\n",
        "\n",
        "    ax.set_xlim(-0.5, cols - 0.5)\n",
        "    ax.set_ylim(rows - 0.5, -0.5)  # invert y-axis\n",
        "    ax.set_aspect(\"equal\")\n",
        "    ax.set_title(title)\n",
        "    ax.legend()\n",
        "    plt.show()"
      ],
      "metadata": {
        "id": "XItHmpA1nrMC"
      },
      "execution_count": null,
      "outputs": []
    },
    {
      "cell_type": "code",
      "source": [
        "def generate_episode(env, Q, epsilon=0.0, max_steps=1000):\n",
        "    \"\"\"\n",
        "    generate_episode just reproduces the sets of actions that follows the largest Q-value\n",
        "    from the Q-table created by either SARSA or Q-learning. We can set epsilon = 0,\n",
        "    (unless we want to explore differnt Q-values) and return a list of\n",
        "    states, actions and rewards for the Q-table used.\n",
        "\n",
        "    Generate one episode using the learned Q-table.\n",
        "    If epsilon > 0, follow an epsilon-greedy policy (exploration).\n",
        "    If epsilon = 0, follow a greedy policy (pure exploitation).\n",
        "    \"\"\"\n",
        "    states, actions, rewards = [], [], []\n",
        "    state = env.reset()\n",
        "\n",
        "    for _ in range(max_steps):\n",
        "        # --- ε-greedy action from Q ---\n",
        "        if np.random.rand() < epsilon:\n",
        "            action = np.random.randint(env.nA)\n",
        "        else:\n",
        "            q = Q[state]\n",
        "            best = np.flatnonzero(q == q.max())\n",
        "            action = int(np.random.choice(best))\n",
        "\n",
        "        next_state, reward, done, _ = env.step(action)\n",
        "        states.append(state)\n",
        "        actions.append(action)\n",
        "        rewards.append(reward)\n",
        "        state = next_state\n",
        "\n",
        "        if done:\n",
        "            break\n",
        "\n",
        "    return states, actions, rewards"
      ],
      "metadata": {
        "id": "CRi__9nOnwOa"
      },
      "execution_count": null,
      "outputs": []
    },
    {
      "cell_type": "markdown",
      "source": [
        "SARSA: On-policy TD Control"
      ],
      "metadata": {
        "id": "tKhBPQFaRHQS"
      }
    },
    {
      "cell_type": "code",
      "source": [
        "def SARSA(\n",
        "    env,\n",
        "    policy,                 # callable: policy(Q, s) -> a\n",
        "    episodes=200,\n",
        "    gamma=1.0,\n",
        "    alpha=0.5,\n",
        "    max_steps=10_000,\n",
        "    track_returns=True\n",
        "):\n",
        "    #rng = np.random.default_rng(seed)\n",
        "\n",
        "    # init Q\n",
        "    Q = np.zeros((env.nS, env.nA), dtype=float)\n",
        "\n",
        "    ep_lengths = [] #stores the length of the episodes\n",
        "    ep_returns = [] if track_returns else None #stores the returns of the episodes\n",
        "\n",
        "    for ep in range(episodes):\n",
        "        s = env.reset()\n",
        "        a = policy(Q, s)\n",
        "\n",
        "        G = 0.0\n",
        "        steps = 0\n",
        "\n",
        "        while steps < max_steps:\n",
        "            s_next, r, done, _ = env.step(a)\n",
        "\n",
        "            \"\"\"\n",
        "            s_next, r, done, _:\n",
        "            - s_next could take on an value between 0 and 69 denoting the states\n",
        "            - r would return either -1 or 0 when we reach terminal (depending on the s_next)\n",
        "            - done is a booelean value, returning if done = true or done = false\n",
        "            -  _ the underscore indicate that a variable's value is not going to be used\n",
        "            \"\"\"\n",
        "            G += r\n",
        "\n",
        "            if done:#if done = true than use the terminal SARSA equation, V(S_t+1 = terminal) = 0\n",
        "                # terminal target: just r (no bootstrap)\n",
        "                td_target = r\n",
        "                Q[s, a] += alpha * (td_target - Q[s, a])\n",
        "                steps += 1\n",
        "                break\n",
        "\n",
        "            # on-policy action for next state\n",
        "            a_next = policy(Q, s_next)\n",
        "\n",
        "            # SARSA target and update\n",
        "            td_target = r + gamma * Q[s_next, a_next]\n",
        "            Q[s, a] = Q[s, a] + alpha * (td_target - Q[s, a])\n",
        "\n",
        "            s, a = s_next, a_next\n",
        "            steps += 1\n",
        "\n",
        "        ep_lengths.append(steps)\n",
        "        if track_returns:\n",
        "            ep_returns.append(G)\n",
        "\n",
        "    info = {\n",
        "        \"episode_lengths\": np.array(ep_lengths),\n",
        "        \"episode_returns\": np.array(ep_returns) if track_returns else None\n",
        "    }\n",
        "    return Q#, info"
      ],
      "metadata": {
        "id": "6VTx-bT6eBGS"
      },
      "execution_count": null,
      "outputs": []
    },
    {
      "cell_type": "code",
      "source": [
        "env = WindyGridWorld()\n",
        "Q = SARSA(env, make_epsilon_greedy(epsilon=0.1),episodes=1000, track_returns = False)\n",
        "generate_episode(env, Q, epsilon = 0.1)[0]"
      ],
      "metadata": {
        "colab": {
          "base_uri": "https://localhost:8080/"
        },
        "id": "yYXotO4z1133",
        "outputId": "0ae8524a-d206-4ebe-b311-0d8e554558e3",
        "collapsed": true
      },
      "execution_count": null,
      "outputs": [
        {
          "output_type": "execute_result",
          "data": {
            "text/plain": [
              "[30,\n",
              " np.int64(31),\n",
              " np.int64(41),\n",
              " np.int64(42),\n",
              " np.int64(33),\n",
              " np.int64(24),\n",
              " np.int64(24),\n",
              " np.int64(15),\n",
              " np.int64(6),\n",
              " np.int64(7),\n",
              " np.int64(6),\n",
              " np.int64(7),\n",
              " np.int64(8),\n",
              " np.int64(7),\n",
              " np.int64(8),\n",
              " np.int64(8),\n",
              " np.int64(9),\n",
              " np.int64(19),\n",
              " np.int64(29),\n",
              " np.int64(39),\n",
              " np.int64(49),\n",
              " np.int64(59),\n",
              " np.int64(69),\n",
              " np.int64(58)]"
            ]
          },
          "metadata": {},
          "execution_count": 26
        }
      ]
    },
    {
      "cell_type": "code",
      "source": [
        "plot_path(env, generate_episode(env, Q = SARSA(env, make_epsilon_greedy(epsilon=0.1),episodes=100, track_returns = False), epsilon = 0)[0])"
      ],
      "metadata": {
        "colab": {
          "base_uri": "https://localhost:8080/",
          "height": 468
        },
        "id": "GtbM8Msa4y8E",
        "outputId": "c019e116-4901-4f39-92ff-5e3de95ae72e"
      },
      "execution_count": null,
      "outputs": [
        {
          "output_type": "display_data",
          "data": {
            "text/plain": [
              "<Figure size 800x500 with 1 Axes>"
            ],
            "image/png": "[encoded data removed]"
          },
          "metadata": {}
        }
      ]
    },
    {
      "cell_type": "markdown",
      "source": [
        "Q-learning: Off-policy TD control"
      ],
      "metadata": {
        "id": "5dd-2pqpR7U5"
      }
    },
    {
      "cell_type": "code",
      "source": [
        "def Q_learning(\n",
        "    env,\n",
        "    policy,                 # callable: policy(Q, s) -> a\n",
        "    episodes=200,\n",
        "    gamma=1.0,\n",
        "    alpha=0.5,\n",
        "    max_steps=10_000,\n",
        "    track_returns=True\n",
        "):\n",
        "    #rng = np.random.default_rng(seed)\n",
        "\n",
        "    # init Q\n",
        "    Q = np.zeros((env.nS, env.nA), dtype=float)\n",
        "\n",
        "    ep_lengths = [] #stores the length of the episodes\n",
        "    ep_returns = [] if track_returns else None #stores the returns of the episodes\n",
        "\n",
        "    for ep in range(episodes):\n",
        "        s = env.reset()\n",
        "        a = policy(Q, s)\n",
        "\n",
        "        G = 0.0\n",
        "        steps = 0\n",
        "\n",
        "        while steps < max_steps:\n",
        "            s_next, r, done, _ = env.step(a)\n",
        "\n",
        "            G += r\n",
        "\n",
        "            if done:\n",
        "                # terminal target: just r (no bootstrap)\n",
        "                td_target = r\n",
        "                Q[s, a] = Q[s, a] + alpha * (td_target - Q[s, a])\n",
        "                steps += 1\n",
        "                break\n",
        "\n",
        "            # on-policy action for next state\n",
        "            a_next = policy(Q, s_next)\n",
        "\n",
        "            # Q-learning target and update\n",
        "            max_action = np.max(Q[s_next])\n",
        "            td_target = r + gamma * max_action\n",
        "            Q[s, a] = Q[s, a] + alpha * (td_target - Q[s, a])\n",
        "\n",
        "            s, a = s_next, a_next\n",
        "            steps += 1\n",
        "\n",
        "        ep_lengths.append(steps)\n",
        "        if track_returns:\n",
        "            ep_returns.append(G)\n",
        "\n",
        "    info = {\n",
        "        \"episode_lengths\": np.array(ep_lengths),\n",
        "        \"episode_returns\": np.array(ep_returns) if track_returns else None\n",
        "    }\n",
        "    return Q#, info"
      ],
      "metadata": {
        "id": "Qvtsmw0ISANX"
      },
      "execution_count": null,
      "outputs": []
    },
    {
      "cell_type": "code",
      "source": [
        "env = WindyGridWorld()\n",
        "plot_path(env, generate_episode(env, Q = Q_learning(env, make_epsilon_greedy(epsilon=0.1),episodes=1000, track_returns = False), epsilon = 0)[0])"
      ],
      "metadata": {
        "colab": {
          "base_uri": "https://localhost:8080/",
          "height": 468
        },
        "id": "hTI6IpJBYnIl",
        "outputId": "1396a33d-0f00-4a23-84e9-47c5cd987876"
      },
      "execution_count": null,
      "outputs": [
        {
          "output_type": "display_data",
          "data": {
            "text/plain": [
              "<Figure size 800x500 with 1 Axes>"
            ],
            "image/png": "[encoded data removed]"
          },
          "metadata": {}
        }
      ]
    }
  ]
}